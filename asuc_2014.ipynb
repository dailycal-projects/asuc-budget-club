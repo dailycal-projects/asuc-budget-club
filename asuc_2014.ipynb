{
 "cells": [
  {
   "cell_type": "code",
   "execution_count": 17,
   "metadata": {},
   "outputs": [],
   "source": [
    "import tabula\n",
    "import pandas as pd\n",
    "\n",
    "# df = pd.DataFrame()\n",
    "df = tabula.read_pdf(\"2014-2015.pdf\", pages=\"all\", multiple_tables=True)"
   ]
  },
  {
   "cell_type": "code",
   "execution_count": 79,
   "metadata": {},
   "outputs": [],
   "source": [
    "categories = []"
   ]
  },
  {
   "cell_type": "code",
   "execution_count": 80,
   "metadata": {},
   "outputs": [],
   "source": [
    "publications = df[0]\n",
    "categories.append(publications)"
   ]
  },
  {
   "cell_type": "code",
   "execution_count": 81,
   "metadata": {},
   "outputs": [],
   "source": [
    "student_activity_groups = df[1:7]\n",
    "categories.append(student_activity_groups)"
   ]
  },
  {
   "cell_type": "code",
   "execution_count": 82,
   "metadata": {},
   "outputs": [],
   "source": [
    "student_initiated_service_groups = df[7:11]\n",
    "categories.append(student_initiated_service_groups)"
   ]
  },
  {
   "cell_type": "code",
   "execution_count": 83,
   "metadata": {},
   "outputs": [],
   "source": [
    "programs = df[11]\n",
    "categories.append(programs)"
   ]
  },
  {
   "cell_type": "code",
   "execution_count": 84,
   "metadata": {},
   "outputs": [],
   "source": [
    "operations = df[12]\n",
    "categories.append(operations)"
   ]
  },
  {
   "cell_type": "code",
   "execution_count": 85,
   "metadata": {},
   "outputs": [],
   "source": [
    "lead_center = df[13]\n",
    "categories.append(operations)"
   ]
  },
  {
   "cell_type": "code",
   "execution_count": 86,
   "metadata": {},
   "outputs": [],
   "source": [
    "president_office = df[14]\n",
    "categories.append(president_office)"
   ]
  },
  {
   "cell_type": "code",
   "execution_count": 87,
   "metadata": {},
   "outputs": [],
   "source": [
    "evp_office = df[15:17]\n",
    "categories.append(evp_office)"
   ]
  },
  {
   "cell_type": "code",
   "execution_count": 88,
   "metadata": {},
   "outputs": [],
   "source": [
    "eavp_office = df[17]\n",
    "categories.append(eavp_office)"
   ]
  },
  {
   "cell_type": "code",
   "execution_count": 89,
   "metadata": {},
   "outputs": [],
   "source": [
    "aavp_office = df[18]\n",
    "categories.append(aavp_office)"
   ]
  },
  {
   "cell_type": "code",
   "execution_count": 90,
   "metadata": {},
   "outputs": [],
   "source": [
    "osa_office = df[19]\n",
    "categories.append(osa_office)"
   ]
  },
  {
   "cell_type": "code",
   "execution_count": 91,
   "metadata": {},
   "outputs": [],
   "source": [
    "appointed_officials = df[20:22]\n",
    "categories.append(appointed_officials)"
   ]
  },
  {
   "cell_type": "code",
   "execution_count": 92,
   "metadata": {},
   "outputs": [],
   "source": [
    "senate = df[22]\n",
    "categories.append(senate)"
   ]
  },
  {
   "cell_type": "code",
   "execution_count": 93,
   "metadata": {},
   "outputs": [],
   "source": [
    "asuc_total = df[23]\n",
    "categories.append(asuc_total)"
   ]
  },
  {
   "cell_type": "code",
   "execution_count": 94,
   "metadata": {},
   "outputs": [],
   "source": [
    "graduate_assembly = df[24]\n",
    "categories.append(graduate_assembly)"
   ]
  },
  {
   "cell_type": "code",
   "execution_count": 95,
   "metadata": {},
   "outputs": [],
   "source": [
    "totals = df[25]\n",
    "categories.append(totals)"
   ]
  },
  {
   "cell_type": "code",
   "execution_count": 96,
   "metadata": {},
   "outputs": [
    {
     "data": {
      "text/plain": [
       "[                                   0     1                2                3  \\\n",
       " 0                APPOINTED OFFICIALS  Type  Funding Request  Finance Officer   \n",
       " 1                   Attorney General    AG              NaN        $1,000.00   \n",
       " 2  Commissioner of Diversity Affairs   CDA              NaN        $1,000.00   \n",
       " \n",
       "                    4                 5  \n",
       " 0  Finance Committee  Final Allocation  \n",
       " 1          $1,000.00         $1,000.00  \n",
       " 2          $1,000.00         $1,000.00  ,\n",
       "                                           0    1        2           3  \\\n",
       " 0                       Comptroller General   CG      NaN   $1,000.00   \n",
       " 1                          Election Council   EC      NaN  $20,000.00   \n",
       " 2                           Finance Officer   FO      NaN   $1,500.00   \n",
       " 3                          Judicial Council   JC  $750.00     $750.00   \n",
       " 4     Marketing and Communications Director  MCD      NaN   $1,000.00   \n",
       " 5  (Under MCD) Marketing and Communications  MCD      NaN   $1,000.00   \n",
       " 6                         Solicitor General   SG      NaN   $1,000.00   \n",
       " 7                                 SUB-TOTAL  NaN      NaN  $28,250.00   \n",
       " \n",
       "             4           5  \n",
       " 0   $1,000.00   $1,000.00  \n",
       " 1  $20,000.00  $20,000.00  \n",
       " 2   $1,500.00   $1,500.00  \n",
       " 3     $750.00     $750.00  \n",
       " 4   $1,000.00   $1,000.00  \n",
       " 5   $1,000.00   $1,000.00  \n",
       " 6   $1,000.00   $1,000.00  \n",
       " 7  $28,250.00  $28,250.00  ]"
      ]
     },
     "execution_count": 96,
     "metadata": {},
     "output_type": "execute_result"
    }
   ],
   "source": [
    "appointed_officials"
   ]
  },
  {
   "cell_type": "code",
   "execution_count": 111,
   "metadata": {},
   "outputs": [],
   "source": [
    "def join_pages(lst_df):\n",
    "    if type(lst_df) != list:\n",
    "        return lst_df\n",
    "    df = lst_df[0]\n",
    "    for i in range(1,len(lst_df)):\n",
    "        df = df.append(lst_df[i])\n",
    "    return df"
   ]
  },
  {
   "cell_type": "code",
   "execution_count": 127,
   "metadata": {},
   "outputs": [],
   "source": [
    "joined_categories = list(map(join_pages, categories))"
   ]
  },
  {
   "cell_type": "code",
   "execution_count": null,
   "metadata": {},
   "outputs": [],
   "source": []
  }
 ],
 "metadata": {
  "kernelspec": {
   "display_name": "Python 3",
   "language": "python",
   "name": "python3"
  },
  "language_info": {
   "codemirror_mode": {
    "name": "ipython",
    "version": 3
   },
   "file_extension": ".py",
   "mimetype": "text/x-python",
   "name": "python",
   "nbconvert_exporter": "python",
   "pygments_lexer": "ipython3",
   "version": "3.6.0"
  }
 },
 "nbformat": 4,
 "nbformat_minor": 2
}
